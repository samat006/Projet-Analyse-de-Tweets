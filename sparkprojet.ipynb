{
 "cells": [
  {
   "cell_type": "code",
   "execution_count": 106,
   "id": "4c61474d",
   "metadata": {},
   "outputs": [
    {
     "name": "stdout",
     "output_type": "stream",
     "text": [
      "+------------------+-----------------+----------------------------+--------------+-------------------------+--------------+----------------------+----------+-------------------+-------------+--------------------+-----------+--------------------+--------------+--------------------+\n",
      "|          tweet_id|airline_sentiment|airline_sentiment_confidence|negativereason|negativereason_confidence|       airline|airline_sentiment_gold|      name|negativereason_gold|retweet_count|                text|tweet_coord|       tweet_created|tweet_location|       user_timezone|\n",
      "+------------------+-----------------+----------------------------+--------------+-------------------------+--------------+----------------------+----------+-------------------+-------------+--------------------+-----------+--------------------+--------------+--------------------+\n",
      "|570306133677760513|          neutral|                         1.0|          NULL|                     NULL|Virgin America|                  NULL|   cairdin|               NULL|            0|@VirginAmerica Wh...|       NULL|2015-02-24 11:35:...|          NULL|Eastern Time (US ...|\n",
      "|570301130888122368|         positive|                      0.3486|          NULL|                      0.0|Virgin America|                  NULL|  jnardino|               NULL|            0|@VirginAmerica pl...|       NULL|2015-02-24 11:15:...|          NULL|Pacific Time (US ...|\n",
      "|570301083672813571|          neutral|                      0.6837|          NULL|                     NULL|Virgin America|                  NULL|yvonnalynn|               NULL|            0|@VirginAmerica I ...|       NULL|2015-02-24 11:15:...|     Lets Play|Central Time (US ...|\n",
      "|570301031407624196|         negative|                         1.0|    Bad Flight|                   0.7033|Virgin America|                  NULL|  jnardino|               NULL|            0|\"@VirginAmerica i...|       NULL|2015-02-24 11:15:...|          NULL|Pacific Time (US ...|\n",
      "|570300817074462722|         negative|                         1.0|    Can't Tell|                      1.0|Virgin America|                  NULL|  jnardino|               NULL|            0|@VirginAmerica an...|       NULL|2015-02-24 11:14:...|          NULL|Pacific Time (US ...|\n",
      "+------------------+-----------------+----------------------------+--------------+-------------------------+--------------+----------------------+----------+-------------------+-------------+--------------------+-----------+--------------------+--------------+--------------------+\n",
      "only showing top 5 rows\n"
     ]
    }
   ],
   "source": [
    "from pyspark.sql import SparkSession\n",
    "\n",
    "spark = SparkSession.builder \\\n",
    "    .appName(\"SentimentAnalysis\") \\\n",
    "    .config(\"spark.jars\", \"/home/a2s/Documents/Documents/Corte/auto_apprendre/postgresql-42.7.4.jar\") \\\n",
    "    .getOrCreate()\n",
    "\n",
    "# Charger le CSV IMDb\n",
    "df = spark.read.option(\"header\", \"true\").csv(\"Tweets.csv\")\n",
    "df.show(5)\n"
   ]
  },
  {
   "cell_type": "code",
   "execution_count": null,
   "id": "8e5a7318",
   "metadata": {},
   "outputs": [],
   "source": []
  },
  {
   "cell_type": "code",
   "execution_count": 107,
   "id": "623ca463",
   "metadata": {},
   "outputs": [
    {
     "name": "stdout",
     "output_type": "stream",
     "text": [
      "+------------------+-----------------+----------------------------+--------------+-------------------------+--------------+----------------------+----------+-------------------+-------------+--------------------+-----------+--------------------+--------------+--------------------+-----------+--------+\n",
      "|          tweet_id|airline_sentiment|airline_sentiment_confidence|negativereason|negativereason_confidence|       airline|airline_sentiment_gold|      name|negativereason_gold|retweet_count|                text|tweet_coord|       tweet_created|tweet_location|       user_timezone|text_length|hashtags|\n",
      "+------------------+-----------------+----------------------------+--------------+-------------------------+--------------+----------------------+----------+-------------------+-------------+--------------------+-----------+--------------------+--------------+--------------------+-----------+--------+\n",
      "|570306133677760513|          neutral|                         1.0|          NULL|                     NULL|Virgin America|                  NULL|   cairdin|               NULL|            0|@VirginAmerica Wh...|       NULL|2015-02-24 11:35:...|          NULL|Eastern Time (US ...|         35|        |\n",
      "|570301130888122368|         positive|                      0.3486|          NULL|                      0.0|Virgin America|                  NULL|  jnardino|               NULL|            0|@VirginAmerica pl...|       NULL|2015-02-24 11:15:...|          NULL|Pacific Time (US ...|         72|        |\n",
      "|570301083672813571|          neutral|                      0.6837|          NULL|                     NULL|Virgin America|                  NULL|yvonnalynn|               NULL|            0|@VirginAmerica I ...|       NULL|2015-02-24 11:15:...|     Lets Play|Central Time (US ...|         71|        |\n",
      "|570301031407624196|         negative|                         1.0|    Bad Flight|                   0.7033|Virgin America|                  NULL|  jnardino|               NULL|            0|\"@VirginAmerica i...|       NULL|2015-02-24 11:15:...|          NULL|Pacific Time (US ...|        130|        |\n",
      "|570300817074462722|         negative|                         1.0|    Can't Tell|                      1.0|Virgin America|                  NULL|  jnardino|               NULL|            0|@VirginAmerica an...|       NULL|2015-02-24 11:14:...|          NULL|Pacific Time (US ...|         55|        |\n",
      "+------------------+-----------------+----------------------------+--------------+-------------------------+--------------+----------------------+----------+-------------------+-------------+--------------------+-----------+--------------------+--------------+--------------------+-----------+--------+\n",
      "only showing top 5 rows\n"
     ]
    },
    {
     "name": "stderr",
     "output_type": "stream",
     "text": [
      "                                                                                \r"
     ]
    }
   ],
   "source": [
    "# Ajouter colonnes calculées\n",
    "# Crée une colonne \"hashtags\" avec le premier hashtag trouvé\n",
    "from pyspark.sql.functions import regexp_extract, col,length,udf\n",
    "from pyspark.sql.types import StringType\n",
    "import re\n",
    "def regexp_extract_all(text):\n",
    "     if text:\n",
    "        return \",\".join(re.findall(r\"#\\w+\", text))\n",
    "     else:\n",
    "        return \"\"\n",
    "\n",
    "extract_hashtags_udf = udf(regexp_extract_all, StringType())\n",
    "\n",
    "\n",
    "df = df.withColumn(\"text_length\", length(col(\"text\"))) \\\n",
    "        .withColumn(\"hashtags\", extract_hashtags_udf(col(\"text\")))\n",
    "df.show(5)\n",
    "\n",
    "\n"
   ]
  },
  {
   "cell_type": "code",
   "execution_count": 108,
   "id": "a0e1cddf",
   "metadata": {},
   "outputs": [
    {
     "name": "stdout",
     "output_type": "stream",
     "text": [
      "root\n",
      " |-- tweet_id: string (nullable = true)\n",
      " |-- airline_sentiment: string (nullable = true)\n",
      " |-- airline_sentiment_confidence: string (nullable = true)\n",
      " |-- negativereason: string (nullable = true)\n",
      " |-- negativereason_confidence: string (nullable = true)\n",
      " |-- airline: string (nullable = true)\n",
      " |-- airline_sentiment_gold: string (nullable = true)\n",
      " |-- name: string (nullable = true)\n",
      " |-- negativereason_gold: string (nullable = true)\n",
      " |-- retweet_count: string (nullable = true)\n",
      " |-- text: string (nullable = true)\n",
      " |-- tweet_coord: string (nullable = true)\n",
      " |-- tweet_created: string (nullable = true)\n",
      " |-- tweet_location: string (nullable = true)\n",
      " |-- user_timezone: string (nullable = true)\n",
      " |-- text_length: integer (nullable = true)\n",
      " |-- hashtags: string (nullable = true)\n",
      "\n"
     ]
    }
   ],
   "source": [
    "df.printSchema()"
   ]
  },
  {
   "cell_type": "code",
   "execution_count": 109,
   "id": "c1085055",
   "metadata": {},
   "outputs": [],
   "source": [
    "#Convertir le texte en minuscules, supprimer ponctuation, etc.\n",
    "from pyspark.sql.functions import regexp_replace,lower\n",
    "\n",
    "df=df.withColumn(\"text_clean\",regexp_replace(lower(col(\"text\")),\"[^a-zA-Z0-9\\s#@]\",\"\"))\n"
   ]
  },
  {
   "cell_type": "code",
   "execution_count": 110,
   "id": "23832858",
   "metadata": {},
   "outputs": [
    {
     "name": "stdout",
     "output_type": "stream",
     "text": [
      "+------------------+-----------------+----------------------------+--------------+-------------------------+--------------+----------------------+----------+-------------------+-------------+--------------------+-----------+--------------------+--------------+--------------------+-----------+--------+--------------------+\n",
      "|          tweet_id|airline_sentiment|airline_sentiment_confidence|negativereason|negativereason_confidence|       airline|airline_sentiment_gold|      name|negativereason_gold|retweet_count|                text|tweet_coord|       tweet_created|tweet_location|       user_timezone|text_length|hashtags|          text_clean|\n",
      "+------------------+-----------------+----------------------------+--------------+-------------------------+--------------+----------------------+----------+-------------------+-------------+--------------------+-----------+--------------------+--------------+--------------------+-----------+--------+--------------------+\n",
      "|570306133677760513|          neutral|                         1.0|          NULL|                     NULL|Virgin America|                  NULL|   cairdin|               NULL|            0|@VirginAmerica Wh...|       NULL|2015-02-24 11:35:...|          NULL|Eastern Time (US ...|         35|        |@virginamerica wh...|\n",
      "|570301130888122368|         positive|                      0.3486|          NULL|                      0.0|Virgin America|                  NULL|  jnardino|               NULL|            0|@VirginAmerica pl...|       NULL|2015-02-24 11:15:...|          NULL|Pacific Time (US ...|         72|        |@virginamerica pl...|\n",
      "|570301083672813571|          neutral|                      0.6837|          NULL|                     NULL|Virgin America|                  NULL|yvonnalynn|               NULL|            0|@VirginAmerica I ...|       NULL|2015-02-24 11:15:...|     Lets Play|Central Time (US ...|         71|        |@virginamerica i ...|\n",
      "|570301031407624196|         negative|                         1.0|    Bad Flight|                   0.7033|Virgin America|                  NULL|  jnardino|               NULL|            0|\"@VirginAmerica i...|       NULL|2015-02-24 11:15:...|          NULL|Pacific Time (US ...|        130|        |@virginamerica it...|\n",
      "|570300817074462722|         negative|                         1.0|    Can't Tell|                      1.0|Virgin America|                  NULL|  jnardino|               NULL|            0|@VirginAmerica an...|       NULL|2015-02-24 11:14:...|          NULL|Pacific Time (US ...|         55|        |@virginamerica an...|\n",
      "+------------------+-----------------+----------------------------+--------------+-------------------------+--------------+----------------------+----------+-------------------+-------------+--------------------+-----------+--------------------+--------------+--------------------+-----------+--------+--------------------+\n",
      "only showing top 5 rows\n"
     ]
    },
    {
     "name": "stderr",
     "output_type": "stream",
     "text": [
      "                                                                                \r"
     ]
    }
   ],
   "source": [
    "df.show(5)\n"
   ]
  },
  {
   "cell_type": "code",
   "execution_count": 111,
   "id": "b315a7b5",
   "metadata": {},
   "outputs": [],
   "source": [
    "from pyspark.sql.functions import split, col\n",
    "df = df.withColumn(\"words\", split(col(\"text_clean\"), \" \"))\n"
   ]
  },
  {
   "cell_type": "code",
   "execution_count": 112,
   "id": "aac037b7",
   "metadata": {},
   "outputs": [],
   "source": [
    "from pyspark.ml.feature import StringIndexer\n",
    "indexer = StringIndexer(\n",
    "    inputCol=\"airline_sentiment\",\n",
    "    outputCol=\"label\",\n",
    "    handleInvalid=\"keep\"   # ou \"keep\"\n",
    ")\n",
    "\n",
    "df = indexer.fit(df).transform(df)"
   ]
  },
  {
   "cell_type": "code",
   "execution_count": null,
   "id": "53f46140",
   "metadata": {},
   "outputs": [],
   "source": []
  },
  {
   "cell_type": "code",
   "execution_count": 113,
   "id": "1ca2022e",
   "metadata": {},
   "outputs": [],
   "source": [
    "#df = df.drop(\"words\")"
   ]
  },
  {
   "cell_type": "code",
   "execution_count": null,
   "id": "0b22e556",
   "metadata": {},
   "outputs": [],
   "source": []
  },
  {
   "cell_type": "code",
   "execution_count": 114,
   "id": "3f2f3ee2",
   "metadata": {},
   "outputs": [
    {
     "name": "stdout",
     "output_type": "stream",
     "text": [
      "+------------------------------------------------------------------------------------------------------------------------------------------+\n",
      "|words                                                                                                                                     |\n",
      "+------------------------------------------------------------------------------------------------------------------------------------------+\n",
      "|[@virginamerica, what, @dhepburn, said]                                                                                                   |\n",
      "|[@virginamerica, plus, youve, added, commercials, to, the, experience, tacky]                                                             |\n",
      "|[@virginamerica, i, didnt, today, must, mean, i, need, to, take, another, trip]                                                           |\n",
      "|[@virginamerica, its, really, aggressive, to, blast, obnoxious, entertainment, in, your, guests, faces, amp, they, have, little, recourse]|\n",
      "|[@virginamerica, and, its, a, really, big, bad, thing, about, it]                                                                         |\n",
      "+------------------------------------------------------------------------------------------------------------------------------------------+\n",
      "only showing top 5 rows\n"
     ]
    }
   ],
   "source": [
    "df.select(\"words\").show(5, truncate=False)\n"
   ]
  },
  {
   "cell_type": "code",
   "execution_count": 115,
   "id": "23336384",
   "metadata": {},
   "outputs": [
    {
     "name": "stderr",
     "output_type": "stream",
     "text": [
      "                                                                                \r"
     ]
    },
    {
     "name": "stdout",
     "output_type": "stream",
     "text": [
      "+----------------------------------------------------------------------+----------------------+----------------------------+--------------------------+--------------------------+--------------------------+----------------------+----+-------------------+-------------+----+-----------+-------------+--------------+-------------+-----------+--------+----------+-----+-----+\n",
      "|tweet_id                                                              |airline_sentiment     |airline_sentiment_confidence|negativereason            |negativereason_confidence |airline                   |airline_sentiment_gold|name|negativereason_gold|retweet_count|text|tweet_coord|tweet_created|tweet_location|user_timezone|text_length|hashtags|text_clean|words|label|\n",
      "+----------------------------------------------------------------------+----------------------+----------------------------+--------------------------+--------------------------+--------------------------+----------------------+----+-------------------+-------------+----+-----------+-------------+--------------+-------------+-----------+--------+----------+-----+-----+\n",
      "|it's really the only bad thing about flying VA\"                       |NULL                  |2015-02-24 11:14:33 -0800   |NULL                      |Pacific Time (US & Canada)|NULL                      |NULL                  |NULL|NULL               |NULL         |NULL|NULL       |NULL         |NULL          |NULL         |NULL       |        |NULL      |NULL |37.0 |\n",
      "|\"\"{{header.elevateUser.numOfPointsAvailable || '0' | number}} Points\"\"| won't let me checkin\"|NULL                        |2015-02-21 12:44:32 -0800 |Silicon Valley, California|Pacific Time (US & Canada)|NULL                  |NULL|NULL               |NULL         |NULL|NULL       |NULL         |NULL          |NULL         |NULL       |        |NULL      |NULL |26.0 |\n",
      "|#ourprincess #freyasfund #USA #Bandie                                 |NULL                  |NULL                        |NULL                      |NULL                      |NULL                      |NULL                  |NULL|NULL               |NULL         |NULL|NULL       |NULL         |NULL          |NULL         |NULL       |        |NULL      |NULL |37.0 |\n",
      "|Looking for Any Help😍                                                |NULL                  |NULL                        |NULL                      |NULL                      |NULL                      |NULL                  |NULL|NULL               |NULL         |NULL|NULL       |NULL         |NULL          |NULL         |NULL       |        |NULL      |NULL |37.0 |\n",
      "|💗🇬🇧💗🇺🇸💗                                                        |NULL                  |NULL                        |NULL                      |NULL                      |NULL                      |NULL                  |NULL|NULL               |NULL         |NULL|NULL       |NULL         |NULL          |NULL         |NULL       |        |NULL      |NULL |37.0 |\n",
      "|🎀🌏🎀 http://t.co/UJfS9Zi6kd\"                                        |NULL                  |2015-02-19 17:16:21 -0800   |freyabevanfund@hotmail.com|NULL                      |NULL                      |NULL                  |NULL|NULL               |NULL         |NULL|NULL       |NULL         |NULL          |NULL         |NULL       |        |NULL      |NULL |37.0 |\n",
      "|Can You Help #ourprincess in need of some help in #USA                |NULL                  |NULL                        |NULL                      |NULL                      |NULL                      |NULL                  |NULL|NULL               |NULL         |NULL|NULL       |NULL         |NULL          |NULL         |NULL       |        |NULL      |NULL |37.0 |\n",
      "|🎀🇬🇧🎀🇺🇸🎀 http://t.co/778AzTDaer\"                                |NULL                  |2015-02-19 16:44:08 -0800   |freyabevanfund@hotmail.com|NULL                      |NULL                      |NULL                  |NULL|NULL               |NULL         |NULL|NULL       |NULL         |NULL          |NULL         |NULL       |        |NULL      |NULL |37.0 |\n",
      "|wjere is our luggage #so slow at lax\"                                 |NULL                  |2015-02-19 13:08:44 -0800   |NULL                      |London                    |NULL                      |NULL                  |NULL|NULL               |NULL         |NULL|NULL       |NULL         |NULL          |NULL         |NULL       |        |NULL      |NULL |37.0 |\n",
      "|http://t.co/3fq3XElbOn\"                                               |NULL                  |2015-02-19 09:59:30 -0800   |NULL                      |NULL                      |NULL                      |NULL                  |NULL|NULL               |NULL         |NULL|NULL       |NULL         |NULL          |NULL         |NULL       |        |NULL      |NULL |37.0 |\n",
      "+----------------------------------------------------------------------+----------------------+----------------------------+--------------------------+--------------------------+--------------------------+----------------------+----+-------------------+-------------+----+-----------+-------------+--------------+-------------+-----------+--------+----------+-----+-----+\n",
      "only showing top 10 rows\n",
      "Nombre de lignes nulles : 205\n"
     ]
    }
   ],
   "source": [
    "# Voir les lignes avec text NULL\n",
    "df.filter(df[\"text\"].isNull()).show(10, truncate=False)\n",
    "\n",
    "# Compter le nombre de lignes nulles\n",
    "print(\"Nombre de lignes nulles :\", df.filter(df[\"text\"].isNull()).count())\n"
   ]
  },
  {
   "cell_type": "code",
   "execution_count": 116,
   "id": "183cd867",
   "metadata": {},
   "outputs": [],
   "source": [
    "df = df.filter(df[\"text\"].isNotNull())\n"
   ]
  },
  {
   "cell_type": "code",
   "execution_count": 117,
   "id": "6724ec28",
   "metadata": {},
   "outputs": [
    {
     "name": "stdout",
     "output_type": "stream",
     "text": [
      "Nombre de lignes nulles : 0\n"
     ]
    }
   ],
   "source": [
    "print(\"Nombre de lignes nulles :\", df.filter(df[\"text\"].isNull()).count())\n"
   ]
  },
  {
   "cell_type": "code",
   "execution_count": 118,
   "id": "cb3fb71a",
   "metadata": {},
   "outputs": [
    {
     "name": "stdout",
     "output_type": "stream",
     "text": [
      "+------------------+-----------------+----------------------------+--------------+-------------------------+--------------+----------------------+----------+-------------------+-------------+----------------------------------------------------------------------------------------------------------------------------------+-----------+-------------------------+--------------+--------------------------+-----------+--------+------------------------------------------------------------------------------------------------------------------------+------------------------------------------------------------------------------------------------------------------------------------------+-----+------------------------------------------------------------------------------------------------------------------------------------------+\n",
      "|tweet_id          |airline_sentiment|airline_sentiment_confidence|negativereason|negativereason_confidence|airline       |airline_sentiment_gold|name      |negativereason_gold|retweet_count|text                                                                                                                              |tweet_coord|tweet_created            |tweet_location|user_timezone             |text_length|hashtags|text_clean                                                                                                              |words                                                                                                                                     |label|words_tokenized                                                                                                                           |\n",
      "+------------------+-----------------+----------------------------+--------------+-------------------------+--------------+----------------------+----------+-------------------+-------------+----------------------------------------------------------------------------------------------------------------------------------+-----------+-------------------------+--------------+--------------------------+-----------+--------+------------------------------------------------------------------------------------------------------------------------+------------------------------------------------------------------------------------------------------------------------------------------+-----+------------------------------------------------------------------------------------------------------------------------------------------+\n",
      "|570306133677760513|neutral          |1.0                         |NULL          |NULL                     |Virgin America|NULL                  |cairdin   |NULL               |0            |@VirginAmerica What @dhepburn said.                                                                                               |NULL       |2015-02-24 11:35:52 -0800|NULL          |Eastern Time (US & Canada)|35         |        |@virginamerica what @dhepburn said                                                                                      |[@virginamerica, what, @dhepburn, said]                                                                                                   |1.0  |[@virginamerica, what, @dhepburn, said]                                                                                                   |\n",
      "|570301130888122368|positive         |0.3486                      |NULL          |0.0                      |Virgin America|NULL                  |jnardino  |NULL               |0            |@VirginAmerica plus you've added commercials to the experience... tacky.                                                          |NULL       |2015-02-24 11:15:59 -0800|NULL          |Pacific Time (US & Canada)|72         |        |@virginamerica plus youve added commercials to the experience tacky                                                     |[@virginamerica, plus, youve, added, commercials, to, the, experience, tacky]                                                             |2.0  |[@virginamerica, plus, youve, added, commercials, to, the, experience, tacky]                                                             |\n",
      "|570301083672813571|neutral          |0.6837                      |NULL          |NULL                     |Virgin America|NULL                  |yvonnalynn|NULL               |0            |@VirginAmerica I didn't today... Must mean I need to take another trip!                                                           |NULL       |2015-02-24 11:15:48 -0800|Lets Play     |Central Time (US & Canada)|71         |        |@virginamerica i didnt today must mean i need to take another trip                                                      |[@virginamerica, i, didnt, today, must, mean, i, need, to, take, another, trip]                                                           |1.0  |[@virginamerica, i, didnt, today, must, mean, i, need, to, take, another, trip]                                                           |\n",
      "|570301031407624196|negative         |1.0                         |Bad Flight    |0.7033                   |Virgin America|NULL                  |jnardino  |NULL               |0            |\"@VirginAmerica it's really aggressive to blast obnoxious \"\"entertainment\"\" in your guests' faces &amp; they have little recourse\"|NULL       |2015-02-24 11:15:36 -0800|NULL          |Pacific Time (US & Canada)|130        |        |@virginamerica its really aggressive to blast obnoxious entertainment in your guests faces amp they have little recourse|[@virginamerica, its, really, aggressive, to, blast, obnoxious, entertainment, in, your, guests, faces, amp, they, have, little, recourse]|0.0  |[@virginamerica, its, really, aggressive, to, blast, obnoxious, entertainment, in, your, guests, faces, amp, they, have, little, recourse]|\n",
      "|570300817074462722|negative         |1.0                         |Can't Tell    |1.0                      |Virgin America|NULL                  |jnardino  |NULL               |0            |@VirginAmerica and it's a really big bad thing about it                                                                           |NULL       |2015-02-24 11:14:45 -0800|NULL          |Pacific Time (US & Canada)|55         |        |@virginamerica and its a really big bad thing about it                                                                  |[@virginamerica, and, its, a, really, big, bad, thing, about, it]                                                                         |0.0  |[@virginamerica, and, its, a, really, big, bad, thing, about, it]                                                                         |\n",
      "+------------------+-----------------+----------------------------+--------------+-------------------------+--------------+----------------------+----------+-------------------+-------------+----------------------------------------------------------------------------------------------------------------------------------+-----------+-------------------------+--------------+--------------------------+-----------+--------+------------------------------------------------------------------------------------------------------------------------+------------------------------------------------------------------------------------------------------------------------------------------+-----+------------------------------------------------------------------------------------------------------------------------------------------+\n",
      "only showing top 5 rows\n"
     ]
    },
    {
     "name": "stderr",
     "output_type": "stream",
     "text": [
      "                                                                                \r"
     ]
    }
   ],
   "source": [
    "from pyspark.ml.feature import Tokenizer\n",
    "tokenizer = Tokenizer(inputCol=\"text_clean\", outputCol=\"words_tokenized\")\n",
    "df = tokenizer.transform(df)\n",
    "df.show(5, truncate=False)\n"
   ]
  },
  {
   "cell_type": "code",
   "execution_count": 119,
   "id": "ecd10004",
   "metadata": {},
   "outputs": [
    {
     "name": "stderr",
     "output_type": "stream",
     "text": [
      "[Stage 105:>                                                        (0 + 1) / 1]\r"
     ]
    },
    {
     "name": "stdout",
     "output_type": "stream",
     "text": [
      "+--------+-----------------+----------------------------+--------------+-------------------------+-------+----------------------+----+-------------------+-------------+----+-----------+-------------+--------------+-------------+-----------+--------+----------+-----+-----+---------------+\n",
      "|tweet_id|airline_sentiment|airline_sentiment_confidence|negativereason|negativereason_confidence|airline|airline_sentiment_gold|name|negativereason_gold|retweet_count|text|tweet_coord|tweet_created|tweet_location|user_timezone|text_length|hashtags|text_clean|words|label|words_tokenized|\n",
      "+--------+-----------------+----------------------------+--------------+-------------------------+-------+----------------------+----+-------------------+-------------+----+-----------+-------------+--------------+-------------+-----------+--------+----------+-----+-----+---------------+\n",
      "+--------+-----------------+----------------------------+--------------+-------------------------+-------+----------------------+----+-------------------+-------------+----+-----------+-------------+--------------+-------------+-----------+--------+----------+-----+-----+---------------+\n",
      "\n"
     ]
    },
    {
     "name": "stderr",
     "output_type": "stream",
     "text": [
      "                                                                                \r"
     ]
    }
   ],
   "source": [
    "df.filter(df[\"words\"].isNull()).show(10, truncate=False)\n"
   ]
  },
  {
   "cell_type": "code",
   "execution_count": 120,
   "id": "f3086e7f",
   "metadata": {},
   "outputs": [
    {
     "name": "stdout",
     "output_type": "stream",
     "text": [
      "['tweet_id', 'airline_sentiment', 'airline_sentiment_confidence', 'negativereason', 'negativereason_confidence', 'airline', 'airline_sentiment_gold', 'name', 'negativereason_gold', 'retweet_count', 'text', 'tweet_coord', 'tweet_created', 'tweet_location', 'user_timezone', 'text_length', 'hashtags', 'text_clean', 'words', 'label', 'words_tokenized']\n"
     ]
    }
   ],
   "source": [
    "print(df.columns)\n"
   ]
  },
  {
   "cell_type": "code",
   "execution_count": 123,
   "id": "eda998e5",
   "metadata": {},
   "outputs": [
    {
     "name": "stderr",
     "output_type": "stream",
     "text": [
      "                                                                                \r"
     ]
    },
    {
     "name": "stdout",
     "output_type": "stream",
     "text": [
      "+------------------------------------------------------------------------------------------------------------------------------------------+------------------------------------------------------------------------------------------------------------------------------------------------+\n",
      "|words                                                                                                                                     |features                                                                                                                                        |\n",
      "+------------------------------------------------------------------------------------------------------------------------------------------+------------------------------------------------------------------------------------------------------------------------------------------------+\n",
      "|[@virginamerica, what, @dhepburn, said]                                                                                                   |(17174,[57,78,221,9872],[1.0,1.0,1.0,1.0])                                                                                                      |\n",
      "|[@virginamerica, plus, youve, added, commercials, to, the, experience, tacky]                                                             |(17174,[0,1,78,196,548,556,1159,2630,15670],[1.0,1.0,1.0,1.0,1.0,1.0,1.0,1.0,1.0])                                                              |\n",
      "|[@virginamerica, i, didnt, today, must, mean, i, need, to, take, another, trip]                                                           |(17174,[0,2,75,78,98,144,148,187,192,570,790],[1.0,2.0,1.0,1.0,1.0,1.0,1.0,1.0,1.0,1.0,1.0])                                                    |\n",
      "|[@virginamerica, its, really, aggressive, to, blast, obnoxious, entertainment, in, your, guests, faces, amp, they, have, little, recourse]|(17174,[0,15,21,22,53,60,65,78,132,489,997,2789,3317,4467,4472,5023,5311],[1.0,1.0,1.0,1.0,1.0,1.0,1.0,1.0,1.0,1.0,1.0,1.0,1.0,1.0,1.0,1.0,1.0])|\n",
      "|[@virginamerica, and, its, a, really, big, bad, thing, about, it]                                                                         |(17174,[3,10,20,65,78,82,132,211,465,500],[1.0,1.0,1.0,1.0,1.0,1.0,1.0,1.0,1.0,1.0])                                                            |\n",
      "+------------------------------------------------------------------------------------------------------------------------------------------+------------------------------------------------------------------------------------------------------------------------------------------------+\n",
      "only showing top 5 rows\n"
     ]
    }
   ],
   "source": [
    "from pyspark.ml.feature import CountVectorizer\n",
    "\n",
    "cv = CountVectorizer(inputCol=\"words\", outputCol=\"features\")\n",
    "cv_model = cv.fit(df)\n",
    "df = cv_model.transform(df)\n",
    "df.select(\"words\", \"features\").show(5, truncate=False)\n"
   ]
  },
  {
   "cell_type": "code",
   "execution_count": 124,
   "id": "c486eb08",
   "metadata": {},
   "outputs": [
    {
     "name": "stdout",
     "output_type": "stream",
     "text": [
      "+------------------------------------------------------------------------------------------------------------------------+------------------------------------------------------------------------------------------------------------------------------------------+------------------------------------------------------------------------------------------------------------------------------------------------+-----+\n",
      "|text_clean                                                                                                              |words                                                                                                                                     |features                                                                                                                                        |label|\n",
      "+------------------------------------------------------------------------------------------------------------------------+------------------------------------------------------------------------------------------------------------------------------------------+------------------------------------------------------------------------------------------------------------------------------------------------+-----+\n",
      "|@virginamerica what @dhepburn said                                                                                      |[@virginamerica, what, @dhepburn, said]                                                                                                   |(17174,[57,78,221,9872],[1.0,1.0,1.0,1.0])                                                                                                      |1.0  |\n",
      "|@virginamerica plus youve added commercials to the experience tacky                                                     |[@virginamerica, plus, youve, added, commercials, to, the, experience, tacky]                                                             |(17174,[0,1,78,196,548,556,1159,2630,15670],[1.0,1.0,1.0,1.0,1.0,1.0,1.0,1.0,1.0])                                                              |2.0  |\n",
      "|@virginamerica i didnt today must mean i need to take another trip                                                      |[@virginamerica, i, didnt, today, must, mean, i, need, to, take, another, trip]                                                           |(17174,[0,2,75,78,98,144,148,187,192,570,790],[1.0,2.0,1.0,1.0,1.0,1.0,1.0,1.0,1.0,1.0,1.0])                                                    |1.0  |\n",
      "|@virginamerica its really aggressive to blast obnoxious entertainment in your guests faces amp they have little recourse|[@virginamerica, its, really, aggressive, to, blast, obnoxious, entertainment, in, your, guests, faces, amp, they, have, little, recourse]|(17174,[0,15,21,22,53,60,65,78,132,489,997,2789,3317,4467,4472,5023,5311],[1.0,1.0,1.0,1.0,1.0,1.0,1.0,1.0,1.0,1.0,1.0,1.0,1.0,1.0,1.0,1.0,1.0])|0.0  |\n",
      "|@virginamerica and its a really big bad thing about it                                                                  |[@virginamerica, and, its, a, really, big, bad, thing, about, it]                                                                         |(17174,[3,10,20,65,78,82,132,211,465,500],[1.0,1.0,1.0,1.0,1.0,1.0,1.0,1.0,1.0,1.0])                                                            |0.0  |\n",
      "+------------------------------------------------------------------------------------------------------------------------+------------------------------------------------------------------------------------------------------------------------------------------+------------------------------------------------------------------------------------------------------------------------------------------------+-----+\n",
      "only showing top 5 rows\n"
     ]
    }
   ],
   "source": [
    "df.select(\"text_clean\", \"words\", \"features\", \"label\").show(5, truncate=False)\n"
   ]
  },
  {
   "cell_type": "code",
   "execution_count": 125,
   "id": "d1f93973",
   "metadata": {},
   "outputs": [],
   "source": [
    "#Pour évaluer correctement un modèle, on sépare les données :\n",
    "\n",
    "#80 % pour l’entraînement (train_df)\n",
    "\n",
    "#20 % pour le test (test_df)\n",
    "\n",
    "train_df, test_df = df.randomSplit([0.8, 0.2], seed=42)\n"
   ]
  },
  {
   "cell_type": "code",
   "execution_count": 126,
   "id": "d37131cb",
   "metadata": {},
   "outputs": [
    {
     "name": "stderr",
     "output_type": "stream",
     "text": [
      "25/09/30 16:57:12 WARN SparkStringUtils: Truncated the string representation of a plan since it was too large. This behavior can be adjusted by setting 'spark.sql.debug.maxToStringFields'.\n",
      "25/09/30 16:57:23 WARN InstanceBuilder: Failed to load implementation from:dev.ludovic.netlib.blas.JNIBLAS\n",
      "                                                                                \r"
     ]
    }
   ],
   "source": [
    "from pyspark.ml.classification import LogisticRegression\n",
    "\n",
    "lr = LogisticRegression(featuresCol=\"features\", labelCol=\"label\")\n",
    "lr_model = lr.fit(train_df)\n"
   ]
  },
  {
   "cell_type": "code",
   "execution_count": 127,
   "id": "d74bfeda",
   "metadata": {},
   "outputs": [
    {
     "name": "stderr",
     "output_type": "stream",
     "text": [
      "25/09/30 17:31:59 WARN DAGScheduler: Broadcasting large task binary with size 5.1 MiB\n",
      "                                                                                \r"
     ]
    },
    {
     "name": "stdout",
     "output_type": "stream",
     "text": [
      "+---------------------------------------------------------------------------------------------------------------------------------+-------------------------------------------------------------------------------------------------------------------------------------------------------+-----+----------+\n",
      "|text_clean                                                                                                                       |words                                                                                                                                                  |label|prediction|\n",
      "+---------------------------------------------------------------------------------------------------------------------------------+-------------------------------------------------------------------------------------------------------------------------------------------------------+-----+----------+\n",
      "|@united yes we waited in line for almost an hour to do so some passengers just left not wanting to wait past 1am                 |[@united, yes, we, waited, in, line, for, almost, an, hour, to, do, so, some, passengers, just, left, not, wanting, to, wait, past, 1am]               |0.0  |0.0       |\n",
      "|@united i like delays less than you because im the one on the plane connect me with a voucher                                    |[@united, i, like, delays, less, than, you, because, im, the, one, on, the, plane, connect, me, with, a, voucher]                                      |0.0  |0.0       |\n",
      "|@southwestair you guys there are we on hour 2 of our phone hold at 3am bc of volume or short staffing                            |[@southwestair, you, guys, there, are, we, on, hour, 2, of, our, phone, hold, at, 3am, bc, of, volume, or, short, staffing]                            |0.0  |0.0       |\n",
      "|@united even though technically after i land i will be silver                                                                    |[@united, even, though, technically, after, i, land, i, will, be, silver]                                                                              |1.0  |1.0       |\n",
      "|@usairways @americanair how r u supposed to change flights when u cant get thru to reservations #onehouronhold                   |[@usairways, @americanair, how, r, u, supposed, to, change, flights, when, u, cant, get, thru, to, reservations, #onehouronhold]                       |0.0  |1.0       |\n",
      "|@usairways reservations had me on hold for 2 hours only to hang upsmh                                                            |[@usairways, reservations, had, me, on, hold, for, 2, hours, only, to, hang, upsmh, ]                                                                  |0.0  |0.0       |\n",
      "|@jetblue really caring                                                                                                           |[@jetblue, really, caring]                                                                                                                             |1.0  |1.0       |\n",
      "|@united new apple crpe amazing live from ua1207 really nice crew too  #americanair has biscuits ua needs them 2 httptcogz9gqdt7jj|[@united, new, apple, crpe, amazing, live, from, ua1207, really, nice, crew, too, , #americanair, has, biscuits, ua, needs, them, 2, httptcogz9gqdt7jj]|2.0  |2.0       |\n",
      "|@united last night we waited forever at the gate because someone from corporate dispatch forgot to call the crew #unfriendlyskies|[@united, last, night, we, waited, forever, at, the, gate, because, someone, from, corporate, dispatch, forgot, to, call, the, crew, #unfriendlyskies] |0.0  |0.0       |\n",
      "|@southwestair hoping you answer the phone today                                                                                  |[@southwestair, hoping, you, answer, the, phone, today]                                                                                                |0.0  |1.0       |\n",
      "+---------------------------------------------------------------------------------------------------------------------------------+-------------------------------------------------------------------------------------------------------------------------------------------------------+-----+----------+\n",
      "only showing top 10 rows\n"
     ]
    },
    {
     "name": "stderr",
     "output_type": "stream",
     "text": [
      "25/09/30 17:32:04 WARN DAGScheduler: Broadcasting large task binary with size 5.1 MiB\n",
      "[Stage 219:>                                                        (0 + 1) / 1]\r"
     ]
    },
    {
     "name": "stdout",
     "output_type": "stream",
     "text": [
      "Accuracy: 0.689727463312369\n"
     ]
    },
    {
     "name": "stderr",
     "output_type": "stream",
     "text": [
      "                                                                                \r"
     ]
    }
   ],
   "source": [
    "#On utilise le modèle pour prédire sur le test_df et on vérifie la précision (accuracy) :\n",
    "predictions = lr_model.transform(test_df)\n",
    "predictions.select(\"text_clean\", \"words\", \"label\", \"prediction\").show(10, truncate=False)\n",
    "\n",
    "from pyspark.ml.evaluation import MulticlassClassificationEvaluator\n",
    "\n",
    "evaluator = MulticlassClassificationEvaluator(labelCol=\"label\", predictionCol=\"prediction\", metricName=\"accuracy\")\n",
    "accuracy = evaluator.evaluate(predictions)\n",
    "print(f\"Accuracy: {accuracy}\")\n"
   ]
  },
  {
   "cell_type": "code",
   "execution_count": null,
   "id": "dfb2605c",
   "metadata": {},
   "outputs": [],
   "source": []
  },
  {
   "cell_type": "code",
   "execution_count": null,
   "id": "472f9e43",
   "metadata": {},
   "outputs": [
    {
     "name": "stderr",
     "output_type": "stream",
     "text": [
      "25/09/30 17:40:58 WARN DAGScheduler: Broadcasting large task binary with size 5.1 MiB\n",
      "[Stage 222:>                                                        (0 + 1) / 1]\r"
     ]
    },
    {
     "name": "stdout",
     "output_type": "stream",
     "text": [
      "+----------------------------------------------------------------------------------------------------------------------------------------------+-----+----------+\n",
      "|text_clean                                                                                                                                    |label|prediction|\n",
      "+----------------------------------------------------------------------------------------------------------------------------------------------+-----+----------+\n",
      "|@usairways @americanair how r u supposed to change flights when u cant get thru to reservations #onehouronhold                                |0.0  |1.0       |\n",
      "|@southwestair hoping you answer the phone today                                                                                               |0.0  |1.0       |\n",
      "|@united what if business as usual meant dropping the bully mentality and fostering inspiration for a greater business #employeerelations      |0.0  |1.0       |\n",
      "|@southwestair trying to fly out of nashville tomorrow how is it looking                                                                       |1.0  |2.0       |\n",
      "|@virginamerica was wondering if you guys recieved my dm and were able to potentially respond asap                                             |1.0  |0.0       |\n",
      "|@usairways thank you for blowing my vacation couldnt get me anywhere today to make my reservation and also lost 2 bags of mine                |0.0  |2.0       |\n",
      "|@usairways flight #3900 fro orf to phl                                                                                                        |1.0  |0.0       |\n",
      "|@jetblue well lucky i only fly jbi guess i would be even more squished on any other airline                                                   |2.0  |1.0       |\n",
      "|@united @jsumiyasu i am thankful to the  united ground staff who put me in the last seat on the last flight out home late flight is still home|2.0  |0.0       |\n",
      "|@southwestair  any update on flights in to bna today                                                                                          |1.0  |0.0       |\n",
      "+----------------------------------------------------------------------------------------------------------------------------------------------+-----+----------+\n",
      "only showing top 10 rows\n"
     ]
    },
    {
     "name": "stderr",
     "output_type": "stream",
     "text": [
      "                                                                                \r"
     ]
    }
   ],
   "source": [
    "#Pour mieux comprendre les erreurs du modèle :\n",
    "predictions.filter(predictions.label != predictions.prediction) \\\n",
    "           .select(\"text_clean\", \"label\", \"prediction\") \\\n",
    "           .show(10, truncate=False)\n"
   ]
  },
  {
   "cell_type": "code",
   "execution_count": null,
   "id": "e39ea135",
   "metadata": {},
   "outputs": [],
   "source": []
  }
 ],
 "metadata": {
  "kernelspec": {
   "display_name": "usr",
   "language": "python",
   "name": "python3"
  },
  "language_info": {
   "codemirror_mode": {
    "name": "ipython",
    "version": 3
   },
   "file_extension": ".py",
   "mimetype": "text/x-python",
   "name": "python",
   "nbconvert_exporter": "python",
   "pygments_lexer": "ipython3",
   "version": "3.10.18"
  }
 },
 "nbformat": 4,
 "nbformat_minor": 5
}
